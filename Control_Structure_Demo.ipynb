{
 "cells": [
  {
   "cell_type": "markdown",
   "metadata": {},
   "source": [
    "### Control Structures in Python\n",
    "\n",
    "Programs are rarely linear\n",
    "\n",
    "Most programs do not work by executing a simple sequential set of statements. The code is constructed so that decisions and different paths through the program can be taken based on changes in variable values.\n",
    "\n",
    "To make this possible all programming language have a set of control structures which allow this to happen."
   ]
  },
  {
   "cell_type": "code",
   "execution_count": 2,
   "metadata": {},
   "outputs": [
    {
     "name": "stdout",
     "output_type": "stream",
     "text": [
      "60 20 800 2.0\n"
     ]
    }
   ],
   "source": [
    "x=40\n",
    "y=20\n",
    "m=x+y\n",
    "n=x-y\n",
    "o=x*y\n",
    "p=x/y\n",
    "print(m,n,o,p)"
   ]
  },
  {
   "attachments": {
    "image.png": {
     "image/png": "[encoded data removed]"
    }
   },
   "cell_type": "markdown",
   "metadata": {},
   "source": [
    "### Selection/Conditional statements\n",
    "In Python, condition statements act depending on whether a given condition is true or false. You can execute different blocks of codes depending on the outcome of a condition. Condition statements always evaluate to either True or False.\n",
    "\n",
    "There are three types of conditional statements.\n",
    "\n",
    "* if statement\n",
    "* if-else\n",
    "* if-elif-else\n",
    "* nested if-else\n",
    "\n",
    "### If statement \n",
    "In control statements, The if statement is the simplest form. It takes a condition and evaluates to either True or False.\n",
    "\n",
    "If the condition is True, then the True block of code will be executed, and if the condition is False, then the block of code is skipped, and The controller moves to the next line\n",
    "\n",
    "Syntax of the if statement\n",
    "\n",
    "if condition:\n",
    "\n",
    "     statement 1\n",
    "     statement 2\n",
    "     statement n\n",
    "     \n",
    "  ![image.png](attachment:image.png)"
   ]
  },
  {
   "cell_type": "code",
   "execution_count": 1,
   "metadata": {},
   "outputs": [
    {
     "name": "stdout",
     "output_type": "stream",
     "text": [
      "25\n",
      "Next lines of code\n"
     ]
    }
   ],
   "source": [
    "number = 5\n",
    "if number > 0:\n",
    "    print(number * number)  # Calculate square\n",
    "print('Next lines of code')"
   ]
  },
  {
   "cell_type": "code",
   "execution_count": 17,
   "metadata": {},
   "outputs": [
    {
     "name": "stdout",
     "output_type": "stream",
     "text": [
      "value is 5 threshold is  10\n"
     ]
    }
   ],
   "source": [
    "value = 5\n",
    "\n",
    "threshold= 10\n",
    "print(\"value is\", value, \"threshold is \",threshold)\n",
    "if value > threshold :\n",
    "    print(value, \"is bigger than \", threshold)"
   ]
  },
  {
   "attachments": {
    "image.png": {
     "image/png": "[encoded data removed]"
    }
   },
   "cell_type": "markdown",
   "metadata": {},
   "source": [
    "### If – else statement\n",
    "The if-else statement checks the condition and executes the if block of code when the condition is True, and if the condition is False, it will execute the else block of code.\n",
    "\n",
    "Syntax of the if-else statement\n",
    "\n",
    "if condition:\n",
    "\n",
    "    statement 1\n",
    "    \n",
    "else:\n",
    "\n",
    "    statement 2\n",
    "    \n",
    "If the condition is True, then statement 1 will be executed If the condition is False, statement 2 will be executed. See the following flowchart for more detail.\n",
    "\n",
    "![image.png](attachment:image.png)"
   ]
  },
  {
   "cell_type": "code",
   "execution_count": 12,
   "metadata": {},
   "outputs": [
    {
     "name": "stdout",
     "output_type": "stream",
     "text": [
      "Enter password Cop@21\n",
      "Correct password\n"
     ]
    }
   ],
   "source": [
    "password = input('Enter password ')\n",
    "\n",
    "if password == \"Cop@21\":\n",
    "    print(\"Correct password\")\n",
    "else:\n",
    "    print(\"Incorrect Password\")"
   ]
  },
  {
   "cell_type": "code",
   "execution_count": 8,
   "metadata": {},
   "outputs": [
    {
     "name": "stdout",
     "output_type": "stream",
     "text": [
      "n is odd\n"
     ]
    }
   ],
   "source": [
    "n = 5\n",
    "if n % 2 == 0:\n",
    "   print(\"n is even\")\n",
    "else:\n",
    "   print(\"n is odd\")"
   ]
  },
  {
   "cell_type": "markdown",
   "metadata": {},
   "source": [
    "### Chain multiple if statement (if-elif-else)\n",
    "In Python, the if-elif-else condition statement has an elif blocks to chain multiple conditions one after another. This is useful when you need to check multiple conditions.\n",
    "\n",
    "With the help of if-elif-else we can make a tricky decision. The elif statement checks multiple conditions one by one and if the condition fulfills, then executes that code.\n",
    "\n",
    "Syntax of the if-elif-else statement:\n",
    "\n",
    "if condition-1:\n",
    "\n",
    "     statement 1 \n",
    "     \n",
    "elif condition-2:\n",
    "\n",
    "     stetement 2 \n",
    "     \n",
    "elif condition-3:\n",
    "\n",
    "     stetement 3 \n",
    "     \n",
    "     ...         \n",
    "else:  \n",
    "\n",
    "     statement   "
   ]
  },
  {
   "cell_type": "code",
   "execution_count": 13,
   "metadata": {},
   "outputs": [
    {
     "name": "stdout",
     "output_type": "stream",
     "text": [
      "Admin\n"
     ]
    }
   ],
   "source": [
    "def user_check(choice):\n",
    "    if choice == 1:\n",
    "        print(\"Admin\")\n",
    "    elif choice == 2:\n",
    "        print(\"Editor\")\n",
    "    elif choice == 3:\n",
    "        print(\"Guest\")\n",
    "    #else:\n",
    "        #print(\"Wrong entry\")\n",
    "\n",
    "#user_check(1)\n",
    "#user_check(2)\n",
    "#user_check(3)\n",
    "user_check(1)"
   ]
  },
  {
   "cell_type": "code",
   "execution_count": 11,
   "metadata": {},
   "outputs": [
    {
     "name": "stdout",
     "output_type": "stream",
     "text": [
      "Please enter an integer: 1\n",
      "Single\n"
     ]
    }
   ],
   "source": [
    "x = int(input(\"Please enter an integer: \"))\n",
    "\n",
    "if x < 0:\n",
    "    x = 0\n",
    "    print('Negative changed to zero')\n",
    "elif x == 0:\n",
    "    print('Zero')\n",
    "elif x == 1:\n",
    "    print('Single')\n",
    "else:\n",
    "    print('More')"
   ]
  },
  {
   "cell_type": "markdown",
   "metadata": {},
   "source": [
    "### Nested if-else statement\n",
    "In Python, the nested if-else statement is an if statement inside another if-else statement. It is allowed in Python to put any number of if statements in another if statement.\n",
    "\n",
    "Indentation is the only way to differentiate the level of nesting. The nested if-else is useful when we want to make a series of decisions.\n",
    "\n",
    "Syntax of the nested-if-else:\n",
    "\n",
    "\n",
    "if conditon_outer:\n",
    "\n",
    "    if condition_inner:\n",
    "    \n",
    "        statement of inner if\n",
    "        \n",
    "    else:\n",
    "    \n",
    "        statement of inner else:\n",
    "        \n",
    "    statement of outer if\n",
    "    \n",
    "else:\n",
    "\n",
    "    Outer else\n",
    "    \n",
    "statement outside if block\n"
   ]
  },
  {
   "cell_type": "code",
   "execution_count": 2,
   "metadata": {},
   "outputs": [
    {
     "name": "stdout",
     "output_type": "stream",
     "text": [
      "b value is big\n"
     ]
    }
   ],
   "source": [
    "a = 5\n",
    "b = 20\n",
    "c = 15\n",
    "\n",
    "if a > b:\n",
    "    if a > c:\n",
    "        print(\"a value is big\")\n",
    "    else:\n",
    "        print(\"c value is big\")\n",
    "else:\n",
    "    if b > c:\n",
    "        print(\"b value is big\")\n",
    "    else:\n",
    "        print(\"c is big\")"
   ]
  },
  {
   "cell_type": "markdown",
   "metadata": {},
   "source": [
    "### How to implement switch statement in Python\n",
    "\n",
    "The Pythonic way to implement switch statement is to use the powerful dictionary mappings, also known as associative arrays, that provide simple one-to-one key-value mappings.\n",
    "\n",
    "Here’s the Python implementation of the above switch statement. In the following example, we create a dictionary named switcher to store all the switch-like cases."
   ]
  },
  {
   "cell_type": "code",
   "execution_count": 3,
   "metadata": {},
   "outputs": [
    {
     "name": "stdout",
     "output_type": "stream",
     "text": [
      "January\n",
      "Invalid month\n"
     ]
    }
   ],
   "source": [
    "def switch_demo(argument):\n",
    "    switcher = {\n",
    "        1: \"January\",\n",
    "        2: \"February\",\n",
    "        3: \"March\",\n",
    "        4: \"April\",\n",
    "        5: \"May\",\n",
    "        6: \"June\",\n",
    "        7: \"July\",\n",
    "        8: \"August\",\n",
    "        9: \"September\",\n",
    "        10: \"October\",\n",
    "        11: \"November\",\n",
    "        12: \"December\"\n",
    "    }\n",
    "    print(switcher.get(argument, \"Invalid month\"))\n",
    "    \n",
    "switch_demo(1)\n",
    "switch_demo(13)"
   ]
  },
  {
   "cell_type": "markdown",
   "metadata": {},
   "source": [
    "In the above example, when you pass an argument to the switch_demo function, it is looked up against the switcher dictionary mapping. If a match is found, the associated value is printed, else a default string (‘Invalid Month’) is printed. The default string helps implement the ‘default case’ of a switch statement."
   ]
  },
  {
   "attachments": {
    "image.png": {
     "image/png": "[encoded data removed]"
    }
   },
   "cell_type": "markdown",
   "metadata": {},
   "source": [
    "### While Loop\n",
    "Python While Loop is used to execute a block of statements repeatedly until a given condition is satisfied. And when the condition becomes false, the line immediately after the loop in the program is executed. While loop falls under the category of indefinite iteration. Indefinite iteration means that the number of times the loop is executed isn’t specified explicitly in advance. \n",
    "\n",
    "Syntax: \n",
    "\n",
    "while expression:\n",
    "\n",
    "    statement(s)\n",
    "    \n",
    "Flowchart of While Loop : \n",
    "![image.png](attachment:image.png)"
   ]
  },
  {
   "cell_type": "code",
   "execution_count": null,
   "metadata": {},
   "outputs": [],
   "source": [
    "# reverse a given number\n",
    "n = int(input(\"enter an integer : \"))\n",
    "rev = 0\n",
    "while n :\n",
    "\trev = rev * 10 + n % 10\n",
    "\tn //= 10\n",
    "print(\"reverse number : \", rev)"
   ]
  },
  {
   "cell_type": "markdown",
   "metadata": {},
   "source": [
    "### Interruption of Loop Iteration\n",
    "\n",
    "### The break Statement\n",
    "\n",
    "The break statement immediately terminates a loop entirely. Program execution proceeds to the first statement following the loop body\n",
    "\n",
    "With the break statement we can stop the loop even if the while condition is true.\n",
    "\n",
    "The break statement takes care of terminating the loop in which it is used. If the break statement is used inside nested loops, the current loop is terminated, and the flow will continue with the code followed that comes after the loop."
   ]
  },
  {
   "cell_type": "code",
   "execution_count": 3,
   "metadata": {},
   "outputs": [
    {
     "name": "stdout",
     "output_type": "stream",
     "text": [
      "1\n",
      "2\n",
      "3\n"
     ]
    }
   ],
   "source": [
    "#Example: Exit the loop when i is 3:\n",
    "i = 1\n",
    "while i < 6:\n",
    "  print(i)\n",
    "  if i == 3:\n",
    "    break\n",
    "  i += 1"
   ]
  },
  {
   "cell_type": "markdown",
   "metadata": {},
   "source": [
    "### The continue Statement\n",
    "With the continue statement we can stop the current iteration, and continue with the next iteration.\n",
    "\n",
    "Python break and continue are used inside the loop to change the flow of the loop from its normal procedure."
   ]
  },
  {
   "cell_type": "code",
   "execution_count": 1,
   "metadata": {},
   "outputs": [
    {
     "name": "stdout",
     "output_type": "stream",
     "text": [
      "1\n",
      "2\n",
      "4\n",
      "5\n",
      "6\n"
     ]
    }
   ],
   "source": [
    "i = 0\n",
    "while i < 6:\n",
    "  i += 1\n",
    "  if i == 3:  # # If i is equals to 3,continue to next iteration without printing  \n",
    "    continue\n",
    "  print(i)"
   ]
  },
  {
   "cell_type": "markdown",
   "metadata": {},
   "source": [
    "### The else Statement\n",
    "With the else statement we can run a block of code once when the condition no longer is true:\n",
    "\n",
    "Example\n",
    "Print a message once the condition is false:"
   ]
  },
  {
   "cell_type": "code",
   "execution_count": null,
   "metadata": {},
   "outputs": [],
   "source": [
    "i = 1\n",
    "while i < 6:\n",
    "  print(i)\n",
    "  i += 1\n",
    "else:\n",
    "  print(\"i is no longer less than 6\")"
   ]
  },
  {
   "cell_type": "code",
   "execution_count": 11,
   "metadata": {},
   "outputs": [
    {
     "name": "stdout",
     "output_type": "stream",
     "text": [
      "Enter any number:87654321\n",
      "12345678\n"
     ]
    }
   ],
   "source": [
    "n=int(input(\"Enter any number:\"))\n",
    "rn=0\n",
    "while(n!=0):\n",
    "    rem=n%10\n",
    "    rn=rn*10+rem\n",
    "    n=n//10\n",
    "print(rn)"
   ]
  },
  {
   "cell_type": "markdown",
   "metadata": {},
   "source": [
    "### Pass statement\n",
    "As the name suggests pass statement simply does nothing. \n",
    "\n",
    "The pass statement in Python is used when a statement is required syntactically but you do not want any command or code to execute. It is like null operation, as nothing will happen is it is executed. Pass statement can also be used for writing empty loops. \n",
    "\n",
    "Pass is also used for empty control statement, function and classes."
   ]
  },
  {
   "cell_type": "code",
   "execution_count": 2,
   "metadata": {},
   "outputs": [],
   "source": [
    "s=\"Hello\"\n",
    "# Empty loop\n",
    "for i in s:\n",
    "    pass\n",
    "  \n",
    "# Empty function\n",
    "def fun():     \n",
    "    pass\n",
    "  \n",
    "fun()"
   ]
  },
  {
   "cell_type": "markdown",
   "metadata": {},
   "source": [
    "Python Pass Statement is used as a placeholder inside loops, functions, class, if-statement that is meant to be implemented later.\n",
    "\n",
    "Python pass is a null statement. When the execution starts and the interpreter comes across the pass statement, it does nothing and is ignored."
   ]
  },
  {
   "cell_type": "markdown",
   "metadata": {},
   "source": [
    "### The None value\n",
    "\n",
    "In Python, None is a special value which means “nothing”. Its type is called NoneType, and only one None value exists at a time – all the None values we use are actually the same object:\n",
    "\n",
    "print(None is None) # True\n",
    "\n",
    "None evaluates to False in boolean expressions. "
   ]
  },
  {
   "cell_type": "code",
   "execution_count": 1,
   "metadata": {},
   "outputs": [
    {
     "name": "stdout",
     "output_type": "stream",
     "text": [
      "True\n"
     ]
    }
   ],
   "source": [
    "print(None is None) # True\n"
   ]
  },
  {
   "cell_type": "code",
   "execution_count": 2,
   "metadata": {},
   "outputs": [
    {
     "data": {
      "text/plain": [
       "NoneType"
      ]
     },
     "execution_count": 2,
     "metadata": {},
     "output_type": "execute_result"
    }
   ],
   "source": [
    "type(None)"
   ]
  },
  {
   "cell_type": "markdown",
   "metadata": {},
   "source": [
    "#### Calculate and print the student’s grade, according to the following table:\n",
    "\n",
    "Weighted final score\tFinal grade\n",
    "* 80 <= mark <= 100\t    A\n",
    "* 70 <= mark < 80\t    B\n",
    "* 60 <= mark < 70\t    C\n",
    "* 50 <= mark < 60\t    D\n",
    "* mark < 50\t            E\n"
   ]
  },
  {
   "cell_type": "code",
   "execution_count": 20,
   "metadata": {},
   "outputs": [
    {
     "name": "stdout",
     "output_type": "stream",
     "text": [
      "Enter marks of a subject:10.555\n",
      "Grade is E\n"
     ]
    }
   ],
   "source": [
    "mark=int(float(input(\"Enter marks of a subject:\")))\n",
    "\n",
    "if (80 <= mark <= 100):\n",
    "    print(\"Grade is A\")\n",
    "elif (70 <= mark < 80):\n",
    "    print(\"Grade is B\")\n",
    "elif (60 <= mark < 70):\n",
    "    print(\"Grade is C\")\n",
    "elif (50 <= mark < 60):\n",
    "    print(\"Grade is D\")\n",
    "else:\n",
    "    print(\"Grade is E\")"
   ]
  },
  {
   "cell_type": "code",
   "execution_count": 7,
   "metadata": {},
   "outputs": [
    {
     "name": "stdout",
     "output_type": "stream",
     "text": [
      "Enter any number:0\n",
      "Factorial is  1\n"
     ]
    }
   ],
   "source": [
    "n=int(input(\"Enter any number:\"))\n",
    "#i=2\n",
    "fact=1\n",
    "while(n):\n",
    "    fact=fact*n\n",
    "    n=n-1\n",
    "print(\"Factorial is \",fact)"
   ]
  },
  {
   "cell_type": "markdown",
   "metadata": {},
   "source": [
    "#### Answer to exercise: Valid or invalid"
   ]
  },
  {
   "cell_type": "code",
   "execution_count": 7,
   "metadata": {},
   "outputs": [],
   "source": [
    "x=10\n",
    "y=10\n",
    "a=10\n",
    "name='James'\n",
    "\n",
    "if (x > 4): \n",
    "    pass\n",
    "if x == 2 :\n",
    "    pass\n",
    "if (y =< 4):  \n",
    "    pass\n",
    "if (y = 5) :\n",
    "    pass\n",
    "if (3 <= a):\n",
    "    pass\n",
    "if (1 - 1) :\n",
    "    pass\n",
    "if ((1 - 1) <= 0):\n",
    "    pass\n",
    "if (name == \"James\"):\n",
    "    pass"
   ]
  },
  {
   "cell_type": "code",
   "execution_count": 8,
   "metadata": {},
   "outputs": [
    {
     "ename": "SyntaxError",
     "evalue": "invalid syntax (<ipython-input-8-51fdd422d0ef>, line 2)",
     "output_type": "error",
     "traceback": [
      "\u001b[1;36m  File \u001b[1;32m\"<ipython-input-8-51fdd422d0ef>\"\u001b[1;36m, line \u001b[1;32m2\u001b[0m\n\u001b[1;33m    if (y = 5) :\u001b[0m\n\u001b[1;37m          ^\u001b[0m\n\u001b[1;31mSyntaxError\u001b[0m\u001b[1;31m:\u001b[0m invalid syntax\n"
     ]
    }
   ],
   "source": [
    "y=10\n",
    "if (y = 5) :\n",
    "    pass"
   ]
  },
  {
   "cell_type": "code",
   "execution_count": null,
   "metadata": {},
   "outputs": [],
   "source": [
    "1.\tif (x > 4) – valid\n",
    "2.\tif x == 2 – valid (brackets are not compulsory)\n",
    "3.\tif (y =< 4) – invalid (=< is not a valid operator; it should be <=)\n",
    "4.\tif (y = 5) – invalid (= is the assignment operator, not a comparison operator)\n",
    "5.\tif (3 <= a) – valid\n",
    "6.\tif (1 - 1) – valid (1 - 1 evaluates to zero, which is false)\n",
    "7.\tif ((1 - 1) <= 0) – valid\n",
    "8.\tif (name == \"James\") – valid"
   ]
  },
  {
   "cell_type": "markdown",
   "metadata": {},
   "source": [
    "### Definite and Indefenite loops\n",
    "\n",
    "\n",
    "They differ in the way in which the number of iterations is determined:\n",
    "\n",
    "In definite loops, the number of iterations is known before we start the execution of the body of the loop.\n",
    "\n",
    "A definite loop is a loop in which the number of times it is going to execute is known in advance before entering the loop\n",
    "\n",
    "In indefinite loops, the number of iterations is not known before we start to execute the body of the loop, but depends on when a certain condition becomes true (and this depends on what happens in the body of the loop)\n",
    "\n",
    "In an indefinite loop, the number of times it is going to execute is not known in advance. Typically, an indefinite loop is going to be executed until some condition is satisfied."
   ]
  },
  {
   "cell_type": "code",
   "execution_count": 10,
   "metadata": {},
   "outputs": [
    {
     "name": "stdout",
     "output_type": "stream",
     "text": [
      "15\n",
      "14\n",
      "13\n",
      "12\n",
      "11\n",
      "10\n",
      "9\n",
      "8\n",
      "7\n",
      "6\n",
      "5\n",
      "4\n",
      "3\n",
      "2\n",
      "1\n"
     ]
    }
   ],
   "source": [
    "# Definite loop\n",
    "n=15\n",
    "while(n>0):\n",
    "    print(n)\n",
    "    n=n-1"
   ]
  },
  {
   "cell_type": "code",
   "execution_count": 16,
   "metadata": {},
   "outputs": [
    {
     "name": "stdout",
     "output_type": "stream",
     "text": [
      "Enter the account number:11111111111111\n",
      "Wrong account number \n",
      "Enter the right account number:5678143\n",
      "Your account number is 5678143\n"
     ]
    }
   ],
   "source": [
    "# Indefinite loop\n",
    "\n",
    "checking_acc = 5678143 \n",
    "acc_num = int(input(\"Enter the account number:\")) \n",
    "\n",
    "while checking_acc != acc_num:     \n",
    "    print(\"Wrong account number \")     \n",
    "    acc_num = int(input(\"Enter the right account number:\")) \n",
    "    \n",
    "print(\"Your account number is\" , acc_num)"
   ]
  },
  {
   "cell_type": "markdown",
   "metadata": {},
   "source": [
    "### Do While loop Construction in Python\n",
    "Python doesn’t have a do-while loop. But we can create a program to implement do-while. It is used to check conditions after executing the statement. It is like a while loop but it is executed at least once."
   ]
  },
  {
   "cell_type": "code",
   "execution_count": null,
   "metadata": {},
   "outputs": [],
   "source": [
    " "
   ]
  },
  {
   "cell_type": "code",
   "execution_count": 2,
   "metadata": {},
   "outputs": [
    {
     "name": "stdout",
     "output_type": "stream",
     "text": [
      "1\n",
      "2\n",
      "3\n",
      "4\n",
      "5\n"
     ]
    }
   ],
   "source": [
    "i = 1  \n",
    "while True:  \n",
    "    print(i)  \n",
    "    i = i + 1  \n",
    "    if(i > 5):  \n",
    "        break "
   ]
  },
  {
   "cell_type": "code",
   "execution_count": 17,
   "metadata": {},
   "outputs": [
    {
     "name": "stdout",
     "output_type": "stream",
     "text": [
      "56\n"
     ]
    }
   ],
   "source": [
    "print(int(56.55))"
   ]
  },
  {
   "cell_type": "code",
   "execution_count": null,
   "metadata": {},
   "outputs": [],
   "source": []
  }
 ],
 "metadata": {
  "kernelspec": {
   "display_name": "Python 3",
   "language": "python",
   "name": "python3"
  },
  "language_info": {
   "codemirror_mode": {
    "name": "ipython",
    "version": 3
   },
   "file_extension": ".py",
   "mimetype": "text/x-python",
   "name": "python",
   "nbconvert_exporter": "python",
   "pygments_lexer": "ipython3",
   "version": "3.8.5"
  }
 },
 "nbformat": 4,
 "nbformat_minor": 4
}
