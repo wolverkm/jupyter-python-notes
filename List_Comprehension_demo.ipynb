{
 "cells": [
  {
   "cell_type": "markdown",
   "metadata": {},
   "source": [
    "### Comprehensions in Python\n",
    "Comprehensions in Python provide us with a short and concise way to construct new sequences (such as lists, set, dictionary etc.) using sequences which have been already defined. \n",
    "Python supports the following 4 types of comprehensions:\n",
    "* List Comprehensions\n",
    "* Dictionary Comprehensions\n",
    "* Set Comprehensions\n",
    "* Generator Comprehensions\n",
    "\n",
    "###### List comprehension in Python\n",
    "\n",
    "In set theory, we learn a couple of ways of creating a set.\n",
    "\n",
    "    1) Enumeration: All the elements are listed.\n",
    "        Example: s = { 1, 3, 5, 7, 9}\n",
    "    \n",
    "    2) Rule based or builder method:\n",
    "        s = { x | x is odd and 1 <= x <= 10 }\n",
    "\n",
    "###### So far we have learnt how to create lists by enumeration. In this section, we shall learn how to create lists using rules. This method of list creation is called list comprehension."
   ]
  },
  {
   "cell_type": "code",
   "execution_count": 2,
   "metadata": {},
   "outputs": [
    {
     "name": "stdout",
     "output_type": "stream",
     "text": [
      "['hello', 'hello', 'hello', 'hello', 'hello']\n"
     ]
    }
   ],
   "source": [
    "l1 = ['hello' for x in range(5)]   \n",
    "print(l1)"
   ]
  },
  {
   "cell_type": "markdown",
   "metadata": {},
   "source": [
    "The above statement is equivalent to the following piece of code."
   ]
  },
  {
   "cell_type": "code",
   "execution_count": 4,
   "metadata": {
    "scrolled": true
   },
   "outputs": [
    {
     "name": "stdout",
     "output_type": "stream",
     "text": [
      "['hello', 'hello', 'hello', 'hello', 'hello']\n"
     ]
    }
   ],
   "source": [
    "l1 = []\n",
    "for x in range(5):\n",
    "    l1.append('hello')\n",
    "\n",
    "print(l1)"
   ]
  },
  {
   "attachments": {
    "image.png": {
     "image/png": "[encoded data removed]"
    }
   },
   "cell_type": "markdown",
   "metadata": {},
   "source": [
    "###### List Comprehensions provide an elegant way to create new lists. The following is the basic structure of a list comprehension:\n",
    "\n",
    "![image.png](attachment:image.png)\n",
    "\n",
    "Semantically, this is equivalent the following.\n",
    "\n",
    "Create an empty list. Execute for part of the list comprehension and evaluate the output_expr each time. Append the expression result to the list. The result is the new list so created.\n",
    "\n",
    "Observe the similarity with map.\n",
    "\n",
    "###### Example 1: create an output list which contains only the even numbers which are present in the input list using list comprehension\n",
    "\n",
    "Using List Comprehension:\n"
   ]
  },
  {
   "cell_type": "code",
   "execution_count": 1,
   "metadata": {},
   "outputs": [
    {
     "name": "stdout",
     "output_type": "stream",
     "text": [
      "[2, 4, 4, 6]\n"
     ]
    }
   ],
   "source": [
    "input_list = [1, 2, 3, 4, 4, 5, 6, 7, 7] \n",
    "output_list = [i for i in input_list if i % 2 == 0]\n",
    "print(output_list)"
   ]
  },
  {
   "cell_type": "code",
   "execution_count": 6,
   "metadata": {},
   "outputs": [
    {
     "name": "stdout",
     "output_type": "stream",
     "text": [
      "[2, 4, 4, 6]\n"
     ]
    }
   ],
   "source": [
    "input_list = [1, 2, 3, 4, 4, 5, 6, 7, 7] \n",
    "list_using_comp = [x for x in input_list if x % 2 == 0] \n",
    "print(list_using_comp) "
   ]
  },
  {
   "cell_type": "markdown",
   "metadata": {},
   "source": [
    "Using filter() function:"
   ]
  },
  {
   "cell_type": "code",
   "execution_count": 6,
   "metadata": {},
   "outputs": [
    {
     "name": "stdout",
     "output_type": "stream",
     "text": [
      "[2, 4, 4, 6]\n"
     ]
    }
   ],
   "source": [
    "input_list = [1, 2, 3, 4, 4, 5, 6, 7, 7] \n",
    "\n",
    "def even(num):\n",
    "    return num % 2 == 0\n",
    "\n",
    "print(list(filter(even,input_list)))\n",
    "#print(list(filter(lambda x: x % 2 == 0,input_list)))"
   ]
  },
  {
   "cell_type": "code",
   "execution_count": 8,
   "metadata": {},
   "outputs": [
    {
     "name": "stdout",
     "output_type": "stream",
     "text": [
      "[2, 4, 4, 6]\n"
     ]
    }
   ],
   "source": [
    "input_list = [1, 2, 3, 4, 4, 5, 6, 7, 7] \n",
    "list_using_filter = filter(lambda x : x % 2 == 0, input_list) \n",
    "print(list(list_using_filter))"
   ]
  },
  {
   "cell_type": "markdown",
   "metadata": {},
   "source": [
    "Using map() function:"
   ]
  },
  {
   "cell_type": "code",
   "execution_count": 9,
   "metadata": {},
   "outputs": [
    {
     "name": "stdout",
     "output_type": "stream",
     "text": [
      "[False, True, False, True, True, False, True, False, False]\n"
     ]
    }
   ],
   "source": [
    "input_list = [1, 2, 3, 4, 4, 5, 6, 7, 7] \n",
    "list_using_map = map(lambda x : x % 2 == 0, input_list) \n",
    "print(list(list_using_map)) "
   ]
  },
  {
   "cell_type": "markdown",
   "metadata": {},
   "source": [
    "Example 2: Compute squares of numbers from 1 to 5 using list comprehension"
   ]
  },
  {
   "cell_type": "code",
   "execution_count": 10,
   "metadata": {},
   "outputs": [
    {
     "name": "stdout",
     "output_type": "stream",
     "text": [
      "[1, 4, 9, 16, 25]\n"
     ]
    }
   ],
   "source": [
    "l2 = [ x * x for x in range(1,6)]\n",
    "print(l2)"
   ]
  },
  {
   "cell_type": "markdown",
   "metadata": {},
   "source": [
    "Example 3:  Compute list of tuples having a number and its square using list comprehension"
   ]
  },
  {
   "cell_type": "code",
   "execution_count": 9,
   "metadata": {},
   "outputs": [
    {
     "name": "stdout",
     "output_type": "stream",
     "text": [
      "Enter value for n:5\n",
      "[(1, 1), (2, 4), (3, 9), (4, 16), (5, 25)]\n"
     ]
    }
   ],
   "source": [
    "n = int(input('Enter value for n:'))\n",
    "l3 = [ (x, x * x) for x in range(1,n+1)]\n",
    "print(l3)"
   ]
  },
  {
   "cell_type": "markdown",
   "metadata": {},
   "source": [
    "Example 4:  Compute the list of tuple of strings and its length using list comprehension"
   ]
  },
  {
   "cell_type": "code",
   "execution_count": 11,
   "metadata": {
    "scrolled": false
   },
   "outputs": [
    {
     "name": "stdout",
     "output_type": "stream",
     "text": [
      "[('bangalore', 9), ('mysore', 6), ('hubballi', 8), ('shivamogga', 10)]\n"
     ]
    }
   ],
   "source": [
    "l4 = [ (name, len(name)) for name in ['bangalore', 'mysore', 'hubballi', 'shivamogga']]\n",
    "print(l4)"
   ]
  },
  {
   "cell_type": "markdown",
   "metadata": {},
   "source": [
    "The one below is an example of nested loops in list comprehension.\n",
    "\n",
    "Example 5:  Compute cartesian product"
   ]
  },
  {
   "cell_type": "code",
   "execution_count": 14,
   "metadata": {
    "scrolled": true
   },
   "outputs": [
    {
     "name": "stdout",
     "output_type": "stream",
     "text": [
      "[(0, 0), (0, 1), (0, 2), (0, 3), (1, 0), (1, 1), (1, 2), (1, 3), (2, 0), (2, 1), (2, 2), (2, 3), (3, 0), (3, 1), (3, 2), (3, 3)]\n"
     ]
    }
   ],
   "source": [
    "l5 = [ (x, y) for x in range(4) for y in range(4)]\n",
    "print(l5)"
   ]
  },
  {
   "cell_type": "markdown",
   "metadata": {},
   "source": [
    "The one below is an example of selection amongst the many produced by the loops. Observe the similarity with filter. In fact it is a combination of map and filter.\n",
    "\n",
    "Example 6:  relation: partial order"
   ]
  },
  {
   "cell_type": "code",
   "execution_count": 15,
   "metadata": {
    "scrolled": true
   },
   "outputs": [
    {
     "name": "stdout",
     "output_type": "stream",
     "text": [
      "[(0, 1), (0, 2), (0, 3), (1, 2), (1, 3), (2, 3)]\n"
     ]
    }
   ],
   "source": [
    "l6 = [ (x, y) for x in range(4) for y in range(4) if x < y]\n",
    "print(l6)"
   ]
  },
  {
   "cell_type": "markdown",
   "metadata": {},
   "source": [
    "Example 7:  Program to convert all words in list to uppercase using list comprehension"
   ]
  },
  {
   "cell_type": "code",
   "execution_count": 16,
   "metadata": {},
   "outputs": [
    {
     "name": "stdout",
     "output_type": "stream",
     "text": [
      "['BANGALORE', 'MYSORE', 'HUBBALLI', 'SHIVAMOGGA']\n"
     ]
    }
   ],
   "source": [
    "# map\n",
    "city_list = ['bangalore', 'mysore', 'hubballi', 'shivamogga' ]\n",
    "print(list(map(str.upper,city_list)))"
   ]
  },
  {
   "cell_type": "code",
   "execution_count": 14,
   "metadata": {},
   "outputs": [
    {
     "name": "stdout",
     "output_type": "stream",
     "text": [
      "['BANGALORE', 'MYSORE', 'HUBBALLI', 'SHIVAMOGGA']\n"
     ]
    }
   ],
   "source": [
    "# list comprehension\n",
    "city_list = ['bangalore', 'mysore', 'hubballi', 'shivamogga' ]\n",
    "b = [ x.upper() for x in city_list ]\n",
    "print(b)"
   ]
  },
  {
   "cell_type": "markdown",
   "metadata": {},
   "source": [
    "Example 8:  find all words in list whose len exceeds 7"
   ]
  },
  {
   "cell_type": "code",
   "execution_count": null,
   "metadata": {},
   "outputs": [],
   "source": [
    "a = ['bangalore', 'mysore', 'hubballi', 'shivamogga' ]\n"
   ]
  },
  {
   "cell_type": "code",
   "execution_count": 18,
   "metadata": {
    "scrolled": true
   },
   "outputs": [
    {
     "name": "stdout",
     "output_type": "stream",
     "text": [
      "['bangalore', 'hubballi', 'shivamogga']\n"
     ]
    }
   ],
   "source": [
    "# filter\n",
    "b = [ x for x in a if len(x) > 7]\n",
    "print(b)"
   ]
  },
  {
   "cell_type": "markdown",
   "metadata": {},
   "source": [
    "Example 9:  convert all words in list to uppercase if len exceeds 7"
   ]
  },
  {
   "cell_type": "code",
   "execution_count": null,
   "metadata": {},
   "outputs": [],
   "source": [
    "a = ['bangalore', 'mysore', 'hubballi', 'shivamogga' ]\n"
   ]
  },
  {
   "cell_type": "code",
   "execution_count": 19,
   "metadata": {},
   "outputs": [
    {
     "name": "stdout",
     "output_type": "stream",
     "text": [
      "['BANGALORE', 'HUBBALLI', 'SHIVAMOGGA']\n"
     ]
    }
   ],
   "source": [
    "# combine\n",
    "b = [ x.upper() for x in a if len(x) > 7]\n",
    "print(b)"
   ]
  },
  {
   "cell_type": "markdown",
   "metadata": {},
   "source": [
    "Example 10:  Generate a nested list  [[1, 2, 3], [4, 5, 6], [7, 8, 9]]"
   ]
  },
  {
   "cell_type": "code",
   "execution_count": 3,
   "metadata": {},
   "outputs": [
    {
     "name": "stdout",
     "output_type": "stream",
     "text": [
      "[[1, 2, 3], [4, 5, 6], [7, 8, 9]]\n"
     ]
    }
   ],
   "source": [
    "l=[[x,x+1,x+2] for x in range(1,10,3)]\n",
    "print(l)"
   ]
  },
  {
   "cell_type": "code",
   "execution_count": 20,
   "metadata": {},
   "outputs": [
    {
     "name": "stdout",
     "output_type": "stream",
     "text": [
      "[[1, 2, 3], [4, 5, 6], [7, 8, 9]]\n"
     ]
    }
   ],
   "source": [
    "b = [ [x, x+1, x+2] for x in range(1,10,3)]\n",
    "print(b)"
   ]
  },
  {
   "cell_type": "markdown",
   "metadata": {},
   "source": [
    "List comprehension provides an alternate mechanism to functional programming constructs map and filter.\n",
    "\n",
    "We also have set, dict comprehension. These are not part of the course – hence not discussed.\n",
    "\n",
    "Example 10:  Find common numbers from 2 lists"
   ]
  },
  {
   "cell_type": "code",
   "execution_count": 4,
   "metadata": {},
   "outputs": [
    {
     "name": "stdout",
     "output_type": "stream",
     "text": [
      "[3, 4]\n",
      "[3, 4]\n"
     ]
    }
   ],
   "source": [
    "l1=[1,2,3,4]\n",
    "l2=[3,4,5,6]\n",
    "\n",
    "l3=[ x for x in l1 if x in l2]\n",
    "l4=[ x for x in l1 for y in l2 if x==y]\n",
    "print(l3)\n",
    "print(l4)"
   ]
  },
  {
   "cell_type": "code",
   "execution_count": 22,
   "metadata": {},
   "outputs": [
    {
     "name": "stdout",
     "output_type": "stream",
     "text": [
      "[3, 4]\n"
     ]
    }
   ],
   "source": [
    "l1=[1,2,3,4]\n",
    "l2=[3,4,5,6]\n",
    "\n",
    "l3=[x for x in l1 if x in l2]\n",
    "#l4=[x for x in l1 for y in l2 if x==y] \n",
    "print(l3)\n",
    "#print(l4)"
   ]
  },
  {
   "cell_type": "markdown",
   "metadata": {},
   "source": [
    "### Dict comprehension is defined with a similar syntax, but with a key:value pair in expression.\n",
    "output_dict = {key:value for (key, value) in iterable if (key, value satisfy this condition)}\n",
    "\n",
    "Example 1:"
   ]
  },
  {
   "cell_type": "code",
   "execution_count": 1,
   "metadata": {},
   "outputs": [
    {
     "name": "stdout",
     "output_type": "stream",
     "text": [
      "{'Gujarat': 'Gandhinagar', 'Maharashtra': 'Mumbai', 'Rajasthan': 'Jaipur'}\n"
     ]
    }
   ],
   "source": [
    "state = ['Gujarat', 'Maharashtra', 'Rajasthan'] \n",
    "capital = ['Gandhinagar', 'Mumbai', 'Jaipur'] \n",
    "dict_using_comp = {key:value for (key, value) in zip(state, capital)} \n",
    "print(dict_using_comp) "
   ]
  },
  {
   "cell_type": "markdown",
   "metadata": {},
   "source": [
    "Example 2: create an output dictionary which contains only the odd numbers that are present in the input list as keys and their cubes as values."
   ]
  },
  {
   "cell_type": "code",
   "execution_count": 2,
   "metadata": {},
   "outputs": [
    {
     "name": "stdout",
     "output_type": "stream",
     "text": [
      "{1: 1, 3: 27, 5: 125, 7: 343}\n"
     ]
    }
   ],
   "source": [
    "input_list = [1,2,3,4,5,6,7] \n",
    "dict_using_comp = {var:var ** 3 for var in input_list if var % 2 != 0} \n",
    "print(dict_using_comp) "
   ]
  },
  {
   "cell_type": "markdown",
   "metadata": {},
   "source": [
    "References:\n",
    "1.\t18_comprehension_exception.pdf – Prof. N S Kumar, Dept. of CSE, PES University.\n",
    "2.\thttps://www.w3schools.com/python/\n",
    "3.\thttps://docs.python.org/\n",
    "4.\thttps://www.geeksforgeeks.org/comprehensions-in-python/"
   ]
  }
 ],
 "metadata": {
  "kernelspec": {
   "display_name": "Python 3",
   "language": "python",
   "name": "python3"
  },
  "language_info": {
   "codemirror_mode": {
    "name": "ipython",
    "version": 3
   },
   "file_extension": ".py",
   "mimetype": "text/x-python",
   "name": "python",
   "nbconvert_exporter": "python",
   "pygments_lexer": "ipython3",
   "version": "3.8.5"
  }
 },
 "nbformat": 4,
 "nbformat_minor": 4
}
