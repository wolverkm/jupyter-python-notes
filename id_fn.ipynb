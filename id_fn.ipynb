{
 "cells": [
  {
   "cell_type": "markdown",
   "metadata": {},
   "source": [
    "### id() function in Python\n",
    "Introduction\n",
    "id() is an inbuilt function in Python.\n",
    "\n",
    "Syntax: id(object)\n",
    "\n",
    "As we can see the function accepts a single parameter and is used to return the identity of an object. This identity has to be unique and constant for this object during the lifetime. \n",
    "Two objects with non-overlapping lifetimes may have the same id() value. If we relate this to C, then they are actually the memory address, here in Python it is the unique id. This function is generally used internally in Python.\n",
    "\n",
    "#### Definition and Usage\n",
    "The id() function returns a unique id for the specified object.\n",
    "\n",
    "All objects in Python has its own unique id.\n",
    "\n",
    "The id is assigned to the object when it is created.\n",
    "\n",
    "The id is the object's memory address, and will be different for each time you run the program. (except for some object that has a constant unique id, like integers from -5 to 256)"
   ]
  },
  {
   "cell_type": "code",
   "execution_count": 1,
   "metadata": {},
   "outputs": [
    {
     "name": "stdout",
     "output_type": "stream",
     "text": [
      "2147336146480\n",
      "2147336146480\n",
      "True\n",
      "2147336146672\n",
      "2147336146608\n",
      "False\n"
     ]
    }
   ],
   "source": [
    "# This program shows various identities\n",
    "str1 = \"geek\"\n",
    "print(id(str1))\n",
    "  \n",
    "str2 = \"geek\"\n",
    "print(id(str2))\n",
    "  \n",
    "# This will return True\n",
    "print(id(str1) == id(str2))\n",
    "  \n",
    "# Use in Lists\n",
    "list1 = [\"aakash\", \"priya\", \"abdul\"]\n",
    "print(id(list1[0]))\n",
    "print(id(list1[2]))\n",
    "  \n",
    "# This returns false\n",
    "print(id(list1[0])==id(list1[2]))"
   ]
  },
  {
   "cell_type": "code",
   "execution_count": 2,
   "metadata": {},
   "outputs": [
    {
     "name": "stdout",
     "output_type": "stream",
     "text": [
      "False False\n",
      "False False\n",
      "id(l1[0])  2680409549264\n",
      "id(l2[0])  140735674853152\n",
      "id(l4)  140735674853152\n",
      "\n",
      "id(l2[2])  140735674853152\n",
      "id(l3[0])  2680409550352\n"
     ]
    }
   ],
   "source": [
    "# Python id() function example  \n",
    "l1 = [444,2,3,4]  \n",
    "l2 = [1,2,3,4]  \n",
    "l3 = [444,5,6,7]  \n",
    "l4 = 1\n",
    "\n",
    "# Calling function  \n",
    "id1 = id(l1)  \n",
    "id2 = id(l2)  \n",
    "id3 = id(l3)  \n",
    "\n",
    "# Displaying result  \n",
    "print((l1==l2),(l1==l3))  \n",
    "\n",
    "# Objects with the same values can have different ids  \n",
    "print((id1==id2),(id1==id3))  \n",
    "# l1 and l2 returns True, while id1 and id2 returns False  \n",
    "\n",
    "print(\"id(l1[0]) \",id(l1[0]))  \n",
    "print(\"id(l2[0]) \",id(l2[0])) \n",
    "print(\"id(l4) \",id(l4)) \n",
    "print()\n",
    "print(\"id(l2[2]) \",id(l2[0]))  \n",
    "print(\"id(l3[0]) \",id(l3[0])) "
   ]
  },
  {
   "cell_type": "code",
   "execution_count": 7,
   "metadata": {},
   "outputs": [
    {
     "name": "stdout",
     "output_type": "stream",
     "text": [
      "Id of 10 is:  140706649876544\n",
      "Id of 10.5 is:  2147335463952\n",
      "Id of 'Hello World' is:  2147336177968\n",
      "Id of list is:  2147335951232\n"
     ]
    }
   ],
   "source": [
    "# Get Id of Literal Values\n",
    "print(\"Id of 10 is: \", id(10))\n",
    "print(\"Id of 10.5 is: \", id(10.5))\n",
    "print(\"Id of 'Hello World' is: \", id('Hello World'))\n",
    "print(\"Id of list is: \", id([1, 2, 3, 4, 5]))"
   ]
  },
  {
   "cell_type": "code",
   "execution_count": 12,
   "metadata": {},
   "outputs": [
    {
     "name": "stdout",
     "output_type": "stream",
     "text": [
      "id(a):  140706649876544\n",
      "id(b):  140706649876544\n",
      "id(c):  140706649876864\n",
      "id(d):  140706649876096\n",
      "id(e):  140706649876096\n"
     ]
    }
   ],
   "source": [
    "# literals/objects in the range -5 to 256 has same id\n",
    "a=10\n",
    "b=10\n",
    "c=20\n",
    "d=-4\n",
    "e=-4\n",
    "print(\"id(a): \", id(a))\n",
    "print(\"id(b): \", id(b))\n",
    "print(\"id(c): \", id(c))\n",
    "print(\"id(d): \", id(d))\n",
    "print(\"id(e): \", id(e))"
   ]
  },
  {
   "cell_type": "code",
   "execution_count": null,
   "metadata": {},
   "outputs": [],
   "source": []
  }
 ],
 "metadata": {
  "kernelspec": {
   "display_name": "Python 3",
   "language": "python",
   "name": "python3"
  },
  "language_info": {
   "codemirror_mode": {
    "name": "ipython",
    "version": 3
   },
   "file_extension": ".py",
   "mimetype": "text/x-python",
   "name": "python",
   "nbconvert_exporter": "python",
   "pygments_lexer": "ipython3",
   "version": "3.8.5"
  }
 },
 "nbformat": 4,
 "nbformat_minor": 4
}
